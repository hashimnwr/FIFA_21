{
 "cells": [
  {
   "cell_type": "code",
   "execution_count": 1,
   "id": "acbac1a7",
   "metadata": {},
   "outputs": [],
   "source": [
    "import pandas as pd\n",
    "import matplotlib.pyplot as plt"
   ]
  },
  {
   "cell_type": "markdown",
   "id": "641472c3",
   "metadata": {},
   "source": [
    "## Reading the CSV file"
   ]
  },
  {
   "cell_type": "code",
   "execution_count": 2,
   "id": "57037f25",
   "metadata": {},
   "outputs": [],
   "source": [
    "df = pd.read_csv('fifa21 raw data v2.csv', low_memory = False)"
   ]
  },
  {
   "cell_type": "markdown",
   "id": "4902abe9",
   "metadata": {},
   "source": [
    "## First 5 rows of the data frame"
   ]
  },
  {
   "cell_type": "code",
   "execution_count": 3,
   "id": "07a4b9d1",
   "metadata": {
    "scrolled": true
   },
   "outputs": [
    {
     "data": {
      "text/html": [
       "<div>\n",
       "<style scoped>\n",
       "    .dataframe tbody tr th:only-of-type {\n",
       "        vertical-align: middle;\n",
       "    }\n",
       "\n",
       "    .dataframe tbody tr th {\n",
       "        vertical-align: top;\n",
       "    }\n",
       "\n",
       "    .dataframe thead th {\n",
       "        text-align: right;\n",
       "    }\n",
       "</style>\n",
       "<table border=\"1\" class=\"dataframe\">\n",
       "  <thead>\n",
       "    <tr style=\"text-align: right;\">\n",
       "      <th></th>\n",
       "      <th>ID</th>\n",
       "      <th>Name</th>\n",
       "      <th>LongName</th>\n",
       "      <th>photoUrl</th>\n",
       "      <th>playerUrl</th>\n",
       "      <th>Nationality</th>\n",
       "      <th>Age</th>\n",
       "      <th>↓OVA</th>\n",
       "      <th>POT</th>\n",
       "      <th>Club</th>\n",
       "      <th>...</th>\n",
       "      <th>A/W</th>\n",
       "      <th>D/W</th>\n",
       "      <th>IR</th>\n",
       "      <th>PAC</th>\n",
       "      <th>SHO</th>\n",
       "      <th>PAS</th>\n",
       "      <th>DRI</th>\n",
       "      <th>DEF</th>\n",
       "      <th>PHY</th>\n",
       "      <th>Hits</th>\n",
       "    </tr>\n",
       "  </thead>\n",
       "  <tbody>\n",
       "    <tr>\n",
       "      <th>0</th>\n",
       "      <td>158023</td>\n",
       "      <td>L. Messi</td>\n",
       "      <td>Lionel Messi</td>\n",
       "      <td>https://cdn.sofifa.com/players/158/023/21_60.png</td>\n",
       "      <td>http://sofifa.com/player/158023/lionel-messi/2...</td>\n",
       "      <td>Argentina</td>\n",
       "      <td>33</td>\n",
       "      <td>93</td>\n",
       "      <td>93</td>\n",
       "      <td>\\n\\n\\n\\nFC Barcelona</td>\n",
       "      <td>...</td>\n",
       "      <td>Medium</td>\n",
       "      <td>Low</td>\n",
       "      <td>5 ★</td>\n",
       "      <td>85</td>\n",
       "      <td>92</td>\n",
       "      <td>91</td>\n",
       "      <td>95</td>\n",
       "      <td>38</td>\n",
       "      <td>65</td>\n",
       "      <td>771</td>\n",
       "    </tr>\n",
       "    <tr>\n",
       "      <th>1</th>\n",
       "      <td>20801</td>\n",
       "      <td>Cristiano Ronaldo</td>\n",
       "      <td>C. Ronaldo dos Santos Aveiro</td>\n",
       "      <td>https://cdn.sofifa.com/players/020/801/21_60.png</td>\n",
       "      <td>http://sofifa.com/player/20801/c-ronaldo-dos-s...</td>\n",
       "      <td>Portugal</td>\n",
       "      <td>35</td>\n",
       "      <td>92</td>\n",
       "      <td>92</td>\n",
       "      <td>\\n\\n\\n\\nJuventus</td>\n",
       "      <td>...</td>\n",
       "      <td>High</td>\n",
       "      <td>Low</td>\n",
       "      <td>5 ★</td>\n",
       "      <td>89</td>\n",
       "      <td>93</td>\n",
       "      <td>81</td>\n",
       "      <td>89</td>\n",
       "      <td>35</td>\n",
       "      <td>77</td>\n",
       "      <td>562</td>\n",
       "    </tr>\n",
       "    <tr>\n",
       "      <th>2</th>\n",
       "      <td>200389</td>\n",
       "      <td>J. Oblak</td>\n",
       "      <td>Jan Oblak</td>\n",
       "      <td>https://cdn.sofifa.com/players/200/389/21_60.png</td>\n",
       "      <td>http://sofifa.com/player/200389/jan-oblak/210006/</td>\n",
       "      <td>Slovenia</td>\n",
       "      <td>27</td>\n",
       "      <td>91</td>\n",
       "      <td>93</td>\n",
       "      <td>\\n\\n\\n\\nAtlético Madrid</td>\n",
       "      <td>...</td>\n",
       "      <td>Medium</td>\n",
       "      <td>Medium</td>\n",
       "      <td>3 ★</td>\n",
       "      <td>87</td>\n",
       "      <td>92</td>\n",
       "      <td>78</td>\n",
       "      <td>90</td>\n",
       "      <td>52</td>\n",
       "      <td>90</td>\n",
       "      <td>150</td>\n",
       "    </tr>\n",
       "    <tr>\n",
       "      <th>3</th>\n",
       "      <td>192985</td>\n",
       "      <td>K. De Bruyne</td>\n",
       "      <td>Kevin De Bruyne</td>\n",
       "      <td>https://cdn.sofifa.com/players/192/985/21_60.png</td>\n",
       "      <td>http://sofifa.com/player/192985/kevin-de-bruyn...</td>\n",
       "      <td>Belgium</td>\n",
       "      <td>29</td>\n",
       "      <td>91</td>\n",
       "      <td>91</td>\n",
       "      <td>\\n\\n\\n\\nManchester City</td>\n",
       "      <td>...</td>\n",
       "      <td>High</td>\n",
       "      <td>High</td>\n",
       "      <td>4 ★</td>\n",
       "      <td>76</td>\n",
       "      <td>86</td>\n",
       "      <td>93</td>\n",
       "      <td>88</td>\n",
       "      <td>64</td>\n",
       "      <td>78</td>\n",
       "      <td>207</td>\n",
       "    </tr>\n",
       "    <tr>\n",
       "      <th>4</th>\n",
       "      <td>190871</td>\n",
       "      <td>Neymar Jr</td>\n",
       "      <td>Neymar da Silva Santos Jr.</td>\n",
       "      <td>https://cdn.sofifa.com/players/190/871/21_60.png</td>\n",
       "      <td>http://sofifa.com/player/190871/neymar-da-silv...</td>\n",
       "      <td>Brazil</td>\n",
       "      <td>28</td>\n",
       "      <td>91</td>\n",
       "      <td>91</td>\n",
       "      <td>\\n\\n\\n\\nParis Saint-Germain</td>\n",
       "      <td>...</td>\n",
       "      <td>High</td>\n",
       "      <td>Medium</td>\n",
       "      <td>5 ★</td>\n",
       "      <td>91</td>\n",
       "      <td>85</td>\n",
       "      <td>86</td>\n",
       "      <td>94</td>\n",
       "      <td>36</td>\n",
       "      <td>59</td>\n",
       "      <td>595</td>\n",
       "    </tr>\n",
       "  </tbody>\n",
       "</table>\n",
       "<p>5 rows × 77 columns</p>\n",
       "</div>"
      ],
      "text/plain": [
       "       ID               Name                      LongName  \\\n",
       "0  158023           L. Messi                  Lionel Messi   \n",
       "1   20801  Cristiano Ronaldo  C. Ronaldo dos Santos Aveiro   \n",
       "2  200389           J. Oblak                     Jan Oblak   \n",
       "3  192985       K. De Bruyne               Kevin De Bruyne   \n",
       "4  190871          Neymar Jr    Neymar da Silva Santos Jr.   \n",
       "\n",
       "                                           photoUrl  \\\n",
       "0  https://cdn.sofifa.com/players/158/023/21_60.png   \n",
       "1  https://cdn.sofifa.com/players/020/801/21_60.png   \n",
       "2  https://cdn.sofifa.com/players/200/389/21_60.png   \n",
       "3  https://cdn.sofifa.com/players/192/985/21_60.png   \n",
       "4  https://cdn.sofifa.com/players/190/871/21_60.png   \n",
       "\n",
       "                                           playerUrl Nationality  Age  ↓OVA  \\\n",
       "0  http://sofifa.com/player/158023/lionel-messi/2...   Argentina   33    93   \n",
       "1  http://sofifa.com/player/20801/c-ronaldo-dos-s...    Portugal   35    92   \n",
       "2  http://sofifa.com/player/200389/jan-oblak/210006/    Slovenia   27    91   \n",
       "3  http://sofifa.com/player/192985/kevin-de-bruyn...     Belgium   29    91   \n",
       "4  http://sofifa.com/player/190871/neymar-da-silv...      Brazil   28    91   \n",
       "\n",
       "   POT                         Club  ...     A/W     D/W   IR PAC SHO  PAS  \\\n",
       "0   93         \\n\\n\\n\\nFC Barcelona  ...  Medium     Low  5 ★  85  92   91   \n",
       "1   92             \\n\\n\\n\\nJuventus  ...    High     Low  5 ★  89  93   81   \n",
       "2   93      \\n\\n\\n\\nAtlético Madrid  ...  Medium  Medium  3 ★  87  92   78   \n",
       "3   91      \\n\\n\\n\\nManchester City  ...    High    High  4 ★  76  86   93   \n",
       "4   91  \\n\\n\\n\\nParis Saint-Germain  ...    High  Medium  5 ★  91  85   86   \n",
       "\n",
       "  DRI DEF PHY Hits  \n",
       "0  95  38  65  771  \n",
       "1  89  35  77  562  \n",
       "2  90  52  90  150  \n",
       "3  88  64  78  207  \n",
       "4  94  36  59  595  \n",
       "\n",
       "[5 rows x 77 columns]"
      ]
     },
     "execution_count": 3,
     "metadata": {},
     "output_type": "execute_result"
    }
   ],
   "source": [
    "df.head()"
   ]
  },
  {
   "cell_type": "markdown",
   "id": "6ddb8c56",
   "metadata": {},
   "source": [
    "## Names of Columns"
   ]
  },
  {
   "cell_type": "code",
   "execution_count": 4,
   "id": "e6fb8e7c",
   "metadata": {
    "scrolled": true
   },
   "outputs": [
    {
     "data": {
      "text/plain": [
       "Index(['ID', 'Name', 'LongName', 'photoUrl', 'playerUrl', 'Nationality', 'Age',\n",
       "       '↓OVA', 'POT', 'Club', 'Contract', 'Positions', 'Height', 'Weight',\n",
       "       'Preferred Foot', 'BOV', 'Best Position', 'Joined', 'Loan Date End',\n",
       "       'Value', 'Wage', 'Release Clause', 'Attacking', 'Crossing', 'Finishing',\n",
       "       'Heading Accuracy', 'Short Passing', 'Volleys', 'Skill', 'Dribbling',\n",
       "       'Curve', 'FK Accuracy', 'Long Passing', 'Ball Control', 'Movement',\n",
       "       'Acceleration', 'Sprint Speed', 'Agility', 'Reactions', 'Balance',\n",
       "       'Power', 'Shot Power', 'Jumping', 'Stamina', 'Strength', 'Long Shots',\n",
       "       'Mentality', 'Aggression', 'Interceptions', 'Positioning', 'Vision',\n",
       "       'Penalties', 'Composure', 'Defending', 'Marking', 'Standing Tackle',\n",
       "       'Sliding Tackle', 'Goalkeeping', 'GK Diving', 'GK Handling',\n",
       "       'GK Kicking', 'GK Positioning', 'GK Reflexes', 'Total Stats',\n",
       "       'Base Stats', 'W/F', 'SM', 'A/W', 'D/W', 'IR', 'PAC', 'SHO', 'PAS',\n",
       "       'DRI', 'DEF', 'PHY', 'Hits'],\n",
       "      dtype='object')"
      ]
     },
     "execution_count": 4,
     "metadata": {},
     "output_type": "execute_result"
    }
   ],
   "source": [
    "df.columns"
   ]
  },
  {
   "cell_type": "markdown",
   "id": "89594751",
   "metadata": {},
   "source": [
    "## Checking the Height and Weight data types"
   ]
  },
  {
   "cell_type": "code",
   "execution_count": 5,
   "id": "ade01b98",
   "metadata": {},
   "outputs": [
    {
     "data": {
      "text/plain": [
       "Height    object\n",
       "Weight    object\n",
       "dtype: object"
      ]
     },
     "execution_count": 5,
     "metadata": {},
     "output_type": "execute_result"
    }
   ],
   "source": [
    "df[['Height', 'Weight']].dtypes"
   ]
  },
  {
   "cell_type": "markdown",
   "id": "c04aefab",
   "metadata": {},
   "source": [
    "## Getting the unique values of Heights"
   ]
  },
  {
   "cell_type": "code",
   "execution_count": 6,
   "id": "25a5cd35",
   "metadata": {},
   "outputs": [
    {
     "data": {
      "text/plain": [
       "array(['170cm', '187cm', '188cm', '181cm', '175cm', '184cm', '191cm',\n",
       "       '178cm', '193cm', '185cm', '199cm', '173cm', '168cm', '176cm',\n",
       "       '177cm', '183cm', '180cm', '189cm', '179cm', '195cm', '172cm',\n",
       "       '182cm', '186cm', '192cm', '165cm', '194cm', '167cm', '196cm',\n",
       "       '163cm', '190cm', '174cm', '169cm', '171cm', '197cm', '200cm',\n",
       "       '166cm', '6\\'2\"', '164cm', '198cm', '6\\'3\"', '6\\'5\"', '5\\'11\"',\n",
       "       '6\\'4\"', '6\\'1\"', '6\\'0\"', '5\\'10\"', '5\\'9\"', '5\\'6\"', '5\\'7\"',\n",
       "       '5\\'4\"', '201cm', '158cm', '162cm', '161cm', '160cm', '203cm',\n",
       "       '157cm', '156cm', '202cm', '159cm', '206cm', '155cm'], dtype=object)"
      ]
     },
     "execution_count": 6,
     "metadata": {},
     "output_type": "execute_result"
    }
   ],
   "source": [
    "df['Height'].unique()"
   ]
  },
  {
   "cell_type": "markdown",
   "id": "9518ea06",
   "metadata": {},
   "source": [
    "## Function to Convert all the heights to floating data type and in Centimeters"
   ]
  },
  {
   "cell_type": "code",
   "execution_count": 7,
   "id": "5ebff357",
   "metadata": {},
   "outputs": [],
   "source": [
    "def convert_cm(height):\n",
    "    if 'cm' in height:\n",
    "        return float(height.replace('cm', ''))\n",
    "    else:\n",
    "        feet, inches = height.split('\\'')\n",
    "        feet = float(feet)\n",
    "        inches = float(inches.replace('\"', ''))\n",
    "        return (feet * 30.48) + (inches * 2.54)"
   ]
  },
  {
   "cell_type": "code",
   "execution_count": 8,
   "id": "79707406",
   "metadata": {},
   "outputs": [],
   "source": [
    "df['Height'] = df['Height'].apply(convert_cm)"
   ]
  },
  {
   "cell_type": "code",
   "execution_count": 9,
   "id": "342b31ea",
   "metadata": {
    "scrolled": true
   },
   "outputs": [
    {
     "data": {
      "text/plain": [
       "array([170.  , 187.  , 188.  , 181.  , 175.  , 184.  , 191.  , 178.  ,\n",
       "       193.  , 185.  , 199.  , 173.  , 168.  , 176.  , 177.  , 183.  ,\n",
       "       180.  , 189.  , 179.  , 195.  , 172.  , 182.  , 186.  , 192.  ,\n",
       "       165.  , 194.  , 167.  , 196.  , 163.  , 190.  , 174.  , 169.  ,\n",
       "       171.  , 197.  , 200.  , 166.  , 187.96, 164.  , 198.  , 190.5 ,\n",
       "       195.58, 180.34, 193.04, 185.42, 182.88, 177.8 , 175.26, 167.64,\n",
       "       170.18, 162.56, 201.  , 158.  , 162.  , 161.  , 160.  , 203.  ,\n",
       "       157.  , 156.  , 202.  , 159.  , 206.  , 155.  ])"
      ]
     },
     "execution_count": 9,
     "metadata": {},
     "output_type": "execute_result"
    }
   ],
   "source": [
    "df['Height'].unique()"
   ]
  },
  {
   "cell_type": "markdown",
   "id": "c58d0119",
   "metadata": {},
   "source": [
    "## Getting the unique values of Heights"
   ]
  },
  {
   "cell_type": "code",
   "execution_count": 10,
   "id": "ad31f2ee",
   "metadata": {},
   "outputs": [
    {
     "data": {
      "text/plain": [
       "array(['72kg', '83kg', '87kg', '70kg', '68kg', '80kg', '71kg', '91kg',\n",
       "       '73kg', '85kg', '92kg', '69kg', '84kg', '96kg', '81kg', '82kg',\n",
       "       '75kg', '86kg', '89kg', '74kg', '76kg', '64kg', '78kg', '90kg',\n",
       "       '66kg', '60kg', '94kg', '79kg', '67kg', '65kg', '59kg', '61kg',\n",
       "       '93kg', '88kg', '97kg', '77kg', '62kg', '63kg', '95kg', '100kg',\n",
       "       '58kg', '183lbs', '179lbs', '172lbs', '196lbs', '176lbs', '185lbs',\n",
       "       '170lbs', '203lbs', '168lbs', '161lbs', '146lbs', '130lbs',\n",
       "       '190lbs', '174lbs', '148lbs', '165lbs', '159lbs', '192lbs',\n",
       "       '181lbs', '139lbs', '154lbs', '157lbs', '163lbs', '98kg', '103kg',\n",
       "       '99kg', '102kg', '56kg', '101kg', '57kg', '55kg', '104kg', '107kg',\n",
       "       '110kg', '53kg', '50kg', '54kg', '52kg'], dtype=object)"
      ]
     },
     "execution_count": 10,
     "metadata": {},
     "output_type": "execute_result"
    }
   ],
   "source": [
    "df['Weight'].unique()"
   ]
  },
  {
   "cell_type": "markdown",
   "id": "9b9f3b83",
   "metadata": {},
   "source": [
    "## Function to Convert all the weights to floating data type and in Kilograms"
   ]
  },
  {
   "cell_type": "code",
   "execution_count": 11,
   "id": "84a1abbc",
   "metadata": {},
   "outputs": [],
   "source": [
    "def convert_kg(weight):\n",
    "    if 'kg' in weight:\n",
    "        return float(weight.replace('kg', ''))\n",
    "    else:\n",
    "        return round(float(weight.replace('lbs', '')) / 2.2, 2)"
   ]
  },
  {
   "cell_type": "code",
   "execution_count": 12,
   "id": "18d741fa",
   "metadata": {},
   "outputs": [],
   "source": [
    "df['Weight'] = df['Weight'].apply(convert_kg)"
   ]
  },
  {
   "cell_type": "code",
   "execution_count": 13,
   "id": "13bb71ab",
   "metadata": {},
   "outputs": [
    {
     "data": {
      "text/plain": [
       "array([ 72.  ,  83.  ,  87.  ,  70.  ,  68.  ,  80.  ,  71.  ,  91.  ,\n",
       "        73.  ,  85.  ,  92.  ,  69.  ,  84.  ,  96.  ,  81.  ,  82.  ,\n",
       "        75.  ,  86.  ,  89.  ,  74.  ,  76.  ,  64.  ,  78.  ,  90.  ,\n",
       "        66.  ,  60.  ,  94.  ,  79.  ,  67.  ,  65.  ,  59.  ,  61.  ,\n",
       "        93.  ,  88.  ,  97.  ,  77.  ,  62.  ,  63.  ,  95.  , 100.  ,\n",
       "        58.  ,  83.18,  81.36,  78.18,  89.09,  84.09,  77.27,  92.27,\n",
       "        76.36,  73.18,  66.36,  59.09,  86.36,  79.09,  67.27,  72.27,\n",
       "        87.27,  82.27,  63.18,  71.36,  74.09,  98.  , 103.  ,  99.  ,\n",
       "       102.  ,  56.  , 101.  ,  57.  ,  55.  , 104.  , 107.  , 110.  ,\n",
       "        53.  ,  50.  ,  54.  ,  52.  ])"
      ]
     },
     "execution_count": 13,
     "metadata": {},
     "output_type": "execute_result"
    }
   ],
   "source": [
    "df['Weight'].unique()"
   ]
  },
  {
   "cell_type": "markdown",
   "id": "3df3dbb0",
   "metadata": {},
   "source": [
    "## Split the Combined Join Date to Day Month Year"
   ]
  },
  {
   "cell_type": "code",
   "execution_count": 14,
   "id": "4a36b2eb",
   "metadata": {},
   "outputs": [
    {
     "data": {
      "text/plain": [
       "0     Jul 1, 2004\n",
       "1    Jul 10, 2018\n",
       "2    Jul 16, 2014\n",
       "3    Aug 30, 2015\n",
       "4     Aug 3, 2017\n",
       "Name: Joined, dtype: object"
      ]
     },
     "execution_count": 14,
     "metadata": {},
     "output_type": "execute_result"
    }
   ],
   "source": [
    "df['Joined'].head()"
   ]
  },
  {
   "cell_type": "code",
   "execution_count": 15,
   "id": "54df4e99",
   "metadata": {},
   "outputs": [
    {
     "data": {
      "text/html": [
       "<div>\n",
       "<style scoped>\n",
       "    .dataframe tbody tr th:only-of-type {\n",
       "        vertical-align: middle;\n",
       "    }\n",
       "\n",
       "    .dataframe tbody tr th {\n",
       "        vertical-align: top;\n",
       "    }\n",
       "\n",
       "    .dataframe thead th {\n",
       "        text-align: right;\n",
       "    }\n",
       "</style>\n",
       "<table border=\"1\" class=\"dataframe\">\n",
       "  <thead>\n",
       "    <tr style=\"text-align: right;\">\n",
       "      <th></th>\n",
       "      <th>ID</th>\n",
       "      <th>Name</th>\n",
       "      <th>LongName</th>\n",
       "      <th>photoUrl</th>\n",
       "      <th>playerUrl</th>\n",
       "      <th>Nationality</th>\n",
       "      <th>Age</th>\n",
       "      <th>↓OVA</th>\n",
       "      <th>POT</th>\n",
       "      <th>Club</th>\n",
       "      <th>...</th>\n",
       "      <th>PAC</th>\n",
       "      <th>SHO</th>\n",
       "      <th>PAS</th>\n",
       "      <th>DRI</th>\n",
       "      <th>DEF</th>\n",
       "      <th>PHY</th>\n",
       "      <th>Hits</th>\n",
       "      <th>Month</th>\n",
       "      <th>Day</th>\n",
       "      <th>Year</th>\n",
       "    </tr>\n",
       "  </thead>\n",
       "  <tbody>\n",
       "    <tr>\n",
       "      <th>0</th>\n",
       "      <td>158023</td>\n",
       "      <td>L. Messi</td>\n",
       "      <td>Lionel Messi</td>\n",
       "      <td>https://cdn.sofifa.com/players/158/023/21_60.png</td>\n",
       "      <td>http://sofifa.com/player/158023/lionel-messi/2...</td>\n",
       "      <td>Argentina</td>\n",
       "      <td>33</td>\n",
       "      <td>93</td>\n",
       "      <td>93</td>\n",
       "      <td>\\n\\n\\n\\nFC Barcelona</td>\n",
       "      <td>...</td>\n",
       "      <td>85</td>\n",
       "      <td>92</td>\n",
       "      <td>91</td>\n",
       "      <td>95</td>\n",
       "      <td>38</td>\n",
       "      <td>65</td>\n",
       "      <td>771</td>\n",
       "      <td>Jul</td>\n",
       "      <td>1</td>\n",
       "      <td>2004</td>\n",
       "    </tr>\n",
       "    <tr>\n",
       "      <th>1</th>\n",
       "      <td>20801</td>\n",
       "      <td>Cristiano Ronaldo</td>\n",
       "      <td>C. Ronaldo dos Santos Aveiro</td>\n",
       "      <td>https://cdn.sofifa.com/players/020/801/21_60.png</td>\n",
       "      <td>http://sofifa.com/player/20801/c-ronaldo-dos-s...</td>\n",
       "      <td>Portugal</td>\n",
       "      <td>35</td>\n",
       "      <td>92</td>\n",
       "      <td>92</td>\n",
       "      <td>\\n\\n\\n\\nJuventus</td>\n",
       "      <td>...</td>\n",
       "      <td>89</td>\n",
       "      <td>93</td>\n",
       "      <td>81</td>\n",
       "      <td>89</td>\n",
       "      <td>35</td>\n",
       "      <td>77</td>\n",
       "      <td>562</td>\n",
       "      <td>Jul</td>\n",
       "      <td>10</td>\n",
       "      <td>2018</td>\n",
       "    </tr>\n",
       "    <tr>\n",
       "      <th>2</th>\n",
       "      <td>200389</td>\n",
       "      <td>J. Oblak</td>\n",
       "      <td>Jan Oblak</td>\n",
       "      <td>https://cdn.sofifa.com/players/200/389/21_60.png</td>\n",
       "      <td>http://sofifa.com/player/200389/jan-oblak/210006/</td>\n",
       "      <td>Slovenia</td>\n",
       "      <td>27</td>\n",
       "      <td>91</td>\n",
       "      <td>93</td>\n",
       "      <td>\\n\\n\\n\\nAtlético Madrid</td>\n",
       "      <td>...</td>\n",
       "      <td>87</td>\n",
       "      <td>92</td>\n",
       "      <td>78</td>\n",
       "      <td>90</td>\n",
       "      <td>52</td>\n",
       "      <td>90</td>\n",
       "      <td>150</td>\n",
       "      <td>Jul</td>\n",
       "      <td>16</td>\n",
       "      <td>2014</td>\n",
       "    </tr>\n",
       "    <tr>\n",
       "      <th>3</th>\n",
       "      <td>192985</td>\n",
       "      <td>K. De Bruyne</td>\n",
       "      <td>Kevin De Bruyne</td>\n",
       "      <td>https://cdn.sofifa.com/players/192/985/21_60.png</td>\n",
       "      <td>http://sofifa.com/player/192985/kevin-de-bruyn...</td>\n",
       "      <td>Belgium</td>\n",
       "      <td>29</td>\n",
       "      <td>91</td>\n",
       "      <td>91</td>\n",
       "      <td>\\n\\n\\n\\nManchester City</td>\n",
       "      <td>...</td>\n",
       "      <td>76</td>\n",
       "      <td>86</td>\n",
       "      <td>93</td>\n",
       "      <td>88</td>\n",
       "      <td>64</td>\n",
       "      <td>78</td>\n",
       "      <td>207</td>\n",
       "      <td>Aug</td>\n",
       "      <td>30</td>\n",
       "      <td>2015</td>\n",
       "    </tr>\n",
       "    <tr>\n",
       "      <th>4</th>\n",
       "      <td>190871</td>\n",
       "      <td>Neymar Jr</td>\n",
       "      <td>Neymar da Silva Santos Jr.</td>\n",
       "      <td>https://cdn.sofifa.com/players/190/871/21_60.png</td>\n",
       "      <td>http://sofifa.com/player/190871/neymar-da-silv...</td>\n",
       "      <td>Brazil</td>\n",
       "      <td>28</td>\n",
       "      <td>91</td>\n",
       "      <td>91</td>\n",
       "      <td>\\n\\n\\n\\nParis Saint-Germain</td>\n",
       "      <td>...</td>\n",
       "      <td>91</td>\n",
       "      <td>85</td>\n",
       "      <td>86</td>\n",
       "      <td>94</td>\n",
       "      <td>36</td>\n",
       "      <td>59</td>\n",
       "      <td>595</td>\n",
       "      <td>Aug</td>\n",
       "      <td>3</td>\n",
       "      <td>2017</td>\n",
       "    </tr>\n",
       "    <tr>\n",
       "      <th>...</th>\n",
       "      <td>...</td>\n",
       "      <td>...</td>\n",
       "      <td>...</td>\n",
       "      <td>...</td>\n",
       "      <td>...</td>\n",
       "      <td>...</td>\n",
       "      <td>...</td>\n",
       "      <td>...</td>\n",
       "      <td>...</td>\n",
       "      <td>...</td>\n",
       "      <td>...</td>\n",
       "      <td>...</td>\n",
       "      <td>...</td>\n",
       "      <td>...</td>\n",
       "      <td>...</td>\n",
       "      <td>...</td>\n",
       "      <td>...</td>\n",
       "      <td>...</td>\n",
       "      <td>...</td>\n",
       "      <td>...</td>\n",
       "      <td>...</td>\n",
       "    </tr>\n",
       "    <tr>\n",
       "      <th>18974</th>\n",
       "      <td>247223</td>\n",
       "      <td>Xia Ao</td>\n",
       "      <td>Ao Xia</td>\n",
       "      <td>https://cdn.sofifa.com/players/247/223/21_60.png</td>\n",
       "      <td>http://sofifa.com/player/247223/ao-xia/210006/</td>\n",
       "      <td>China PR</td>\n",
       "      <td>21</td>\n",
       "      <td>47</td>\n",
       "      <td>55</td>\n",
       "      <td>\\n\\n\\n\\nWuhan Zall</td>\n",
       "      <td>...</td>\n",
       "      <td>64</td>\n",
       "      <td>28</td>\n",
       "      <td>26</td>\n",
       "      <td>38</td>\n",
       "      <td>48</td>\n",
       "      <td>51</td>\n",
       "      <td>NaN</td>\n",
       "      <td>Jul</td>\n",
       "      <td>13</td>\n",
       "      <td>2018</td>\n",
       "    </tr>\n",
       "    <tr>\n",
       "      <th>18975</th>\n",
       "      <td>258760</td>\n",
       "      <td>B. Hough</td>\n",
       "      <td>Ben Hough</td>\n",
       "      <td>https://cdn.sofifa.com/players/258/760/21_60.png</td>\n",
       "      <td>http://sofifa.com/player/258760/ben-hough/210006/</td>\n",
       "      <td>England</td>\n",
       "      <td>17</td>\n",
       "      <td>47</td>\n",
       "      <td>67</td>\n",
       "      <td>\\n\\n\\n\\nOldham Athletic</td>\n",
       "      <td>...</td>\n",
       "      <td>64</td>\n",
       "      <td>40</td>\n",
       "      <td>48</td>\n",
       "      <td>49</td>\n",
       "      <td>35</td>\n",
       "      <td>45</td>\n",
       "      <td>NaN</td>\n",
       "      <td>Aug</td>\n",
       "      <td>1</td>\n",
       "      <td>2020</td>\n",
       "    </tr>\n",
       "    <tr>\n",
       "      <th>18976</th>\n",
       "      <td>252757</td>\n",
       "      <td>R. McKinley</td>\n",
       "      <td>Ronan McKinley</td>\n",
       "      <td>https://cdn.sofifa.com/players/252/757/21_60.png</td>\n",
       "      <td>http://sofifa.com/player/252757/ronan-mckinley...</td>\n",
       "      <td>England</td>\n",
       "      <td>18</td>\n",
       "      <td>47</td>\n",
       "      <td>65</td>\n",
       "      <td>\\n\\n\\n\\nDerry City</td>\n",
       "      <td>...</td>\n",
       "      <td>63</td>\n",
       "      <td>39</td>\n",
       "      <td>44</td>\n",
       "      <td>46</td>\n",
       "      <td>40</td>\n",
       "      <td>53</td>\n",
       "      <td>NaN</td>\n",
       "      <td>Mar</td>\n",
       "      <td>8</td>\n",
       "      <td>2019</td>\n",
       "    </tr>\n",
       "    <tr>\n",
       "      <th>18977</th>\n",
       "      <td>243790</td>\n",
       "      <td>Wang Zhen'ao</td>\n",
       "      <td>Zhen'ao Wang</td>\n",
       "      <td>https://cdn.sofifa.com/players/243/790/21_60.png</td>\n",
       "      <td>http://sofifa.com/player/243790/zhenao-wang/21...</td>\n",
       "      <td>China PR</td>\n",
       "      <td>20</td>\n",
       "      <td>47</td>\n",
       "      <td>57</td>\n",
       "      <td>\\n\\n\\n\\nDalian YiFang FC</td>\n",
       "      <td>...</td>\n",
       "      <td>58</td>\n",
       "      <td>49</td>\n",
       "      <td>41</td>\n",
       "      <td>49</td>\n",
       "      <td>30</td>\n",
       "      <td>44</td>\n",
       "      <td>NaN</td>\n",
       "      <td>Sep</td>\n",
       "      <td>22</td>\n",
       "      <td>2020</td>\n",
       "    </tr>\n",
       "    <tr>\n",
       "      <th>18978</th>\n",
       "      <td>252520</td>\n",
       "      <td>Zhou Xiao</td>\n",
       "      <td>Xiao Zhou</td>\n",
       "      <td>https://cdn.sofifa.com/players/252/520/21_60.png</td>\n",
       "      <td>http://sofifa.com/player/252520/xiao-zhou/210006/</td>\n",
       "      <td>China PR</td>\n",
       "      <td>21</td>\n",
       "      <td>47</td>\n",
       "      <td>57</td>\n",
       "      <td>\\n\\n\\n\\nDalian YiFang FC</td>\n",
       "      <td>...</td>\n",
       "      <td>62</td>\n",
       "      <td>22</td>\n",
       "      <td>39</td>\n",
       "      <td>42</td>\n",
       "      <td>45</td>\n",
       "      <td>55</td>\n",
       "      <td>NaN</td>\n",
       "      <td>Jul</td>\n",
       "      <td>29</td>\n",
       "      <td>2019</td>\n",
       "    </tr>\n",
       "  </tbody>\n",
       "</table>\n",
       "<p>18979 rows × 79 columns</p>\n",
       "</div>"
      ],
      "text/plain": [
       "           ID               Name                      LongName  \\\n",
       "0      158023           L. Messi                  Lionel Messi   \n",
       "1       20801  Cristiano Ronaldo  C. Ronaldo dos Santos Aveiro   \n",
       "2      200389           J. Oblak                     Jan Oblak   \n",
       "3      192985       K. De Bruyne               Kevin De Bruyne   \n",
       "4      190871          Neymar Jr    Neymar da Silva Santos Jr.   \n",
       "...       ...                ...                           ...   \n",
       "18974  247223             Xia Ao                        Ao Xia   \n",
       "18975  258760           B. Hough                     Ben Hough   \n",
       "18976  252757        R. McKinley                Ronan McKinley   \n",
       "18977  243790       Wang Zhen'ao                  Zhen'ao Wang   \n",
       "18978  252520          Zhou Xiao                     Xiao Zhou   \n",
       "\n",
       "                                               photoUrl  \\\n",
       "0      https://cdn.sofifa.com/players/158/023/21_60.png   \n",
       "1      https://cdn.sofifa.com/players/020/801/21_60.png   \n",
       "2      https://cdn.sofifa.com/players/200/389/21_60.png   \n",
       "3      https://cdn.sofifa.com/players/192/985/21_60.png   \n",
       "4      https://cdn.sofifa.com/players/190/871/21_60.png   \n",
       "...                                                 ...   \n",
       "18974  https://cdn.sofifa.com/players/247/223/21_60.png   \n",
       "18975  https://cdn.sofifa.com/players/258/760/21_60.png   \n",
       "18976  https://cdn.sofifa.com/players/252/757/21_60.png   \n",
       "18977  https://cdn.sofifa.com/players/243/790/21_60.png   \n",
       "18978  https://cdn.sofifa.com/players/252/520/21_60.png   \n",
       "\n",
       "                                               playerUrl Nationality  Age  \\\n",
       "0      http://sofifa.com/player/158023/lionel-messi/2...   Argentina   33   \n",
       "1      http://sofifa.com/player/20801/c-ronaldo-dos-s...    Portugal   35   \n",
       "2      http://sofifa.com/player/200389/jan-oblak/210006/    Slovenia   27   \n",
       "3      http://sofifa.com/player/192985/kevin-de-bruyn...     Belgium   29   \n",
       "4      http://sofifa.com/player/190871/neymar-da-silv...      Brazil   28   \n",
       "...                                                  ...         ...  ...   \n",
       "18974     http://sofifa.com/player/247223/ao-xia/210006/    China PR   21   \n",
       "18975  http://sofifa.com/player/258760/ben-hough/210006/     England   17   \n",
       "18976  http://sofifa.com/player/252757/ronan-mckinley...     England   18   \n",
       "18977  http://sofifa.com/player/243790/zhenao-wang/21...    China PR   20   \n",
       "18978  http://sofifa.com/player/252520/xiao-zhou/210006/    China PR   21   \n",
       "\n",
       "       ↓OVA  POT                         Club  ... PAC SHO  PAS  DRI DEF  PHY  \\\n",
       "0        93   93         \\n\\n\\n\\nFC Barcelona  ...  85  92   91   95  38   65   \n",
       "1        92   92             \\n\\n\\n\\nJuventus  ...  89  93   81   89  35   77   \n",
       "2        91   93      \\n\\n\\n\\nAtlético Madrid  ...  87  92   78   90  52   90   \n",
       "3        91   91      \\n\\n\\n\\nManchester City  ...  76  86   93   88  64   78   \n",
       "4        91   91  \\n\\n\\n\\nParis Saint-Germain  ...  91  85   86   94  36   59   \n",
       "...     ...  ...                          ...  ...  ..  ..  ...  ...  ..  ...   \n",
       "18974    47   55           \\n\\n\\n\\nWuhan Zall  ...  64  28   26   38  48   51   \n",
       "18975    47   67      \\n\\n\\n\\nOldham Athletic  ...  64  40   48   49  35   45   \n",
       "18976    47   65           \\n\\n\\n\\nDerry City  ...  63  39   44   46  40   53   \n",
       "18977    47   57     \\n\\n\\n\\nDalian YiFang FC  ...  58  49   41   49  30   44   \n",
       "18978    47   57     \\n\\n\\n\\nDalian YiFang FC  ...  62  22   39   42  45   55   \n",
       "\n",
       "      Hits Month Day   Year  \n",
       "0      771   Jul   1   2004  \n",
       "1      562   Jul  10   2018  \n",
       "2      150   Jul  16   2014  \n",
       "3      207   Aug  30   2015  \n",
       "4      595   Aug   3   2017  \n",
       "...    ...   ...  ..    ...  \n",
       "18974  NaN   Jul  13   2018  \n",
       "18975  NaN   Aug   1   2020  \n",
       "18976  NaN   Mar   8   2019  \n",
       "18977  NaN   Sep  22   2020  \n",
       "18978  NaN   Jul  29   2019  \n",
       "\n",
       "[18979 rows x 79 columns]"
      ]
     },
     "execution_count": 15,
     "metadata": {},
     "output_type": "execute_result"
    }
   ],
   "source": [
    "df[['Month' ,'Day-Year']] = df['Joined'].str.split(' ', n = 1, expand = True)\n",
    "df[['Day', 'Year']] = df['Day-Year'].str.split(',', n = 1, expand = True)\n",
    "df.drop(columns=['Joined', 'Day-Year'], axis = 1)"
   ]
  },
  {
   "cell_type": "code",
   "execution_count": 16,
   "id": "8347dcd6",
   "metadata": {},
   "outputs": [
    {
     "data": {
      "text/html": [
       "<div>\n",
       "<style scoped>\n",
       "    .dataframe tbody tr th:only-of-type {\n",
       "        vertical-align: middle;\n",
       "    }\n",
       "\n",
       "    .dataframe tbody tr th {\n",
       "        vertical-align: top;\n",
       "    }\n",
       "\n",
       "    .dataframe thead th {\n",
       "        text-align: right;\n",
       "    }\n",
       "</style>\n",
       "<table border=\"1\" class=\"dataframe\">\n",
       "  <thead>\n",
       "    <tr style=\"text-align: right;\">\n",
       "      <th></th>\n",
       "      <th>Month</th>\n",
       "      <th>Day</th>\n",
       "      <th>Year</th>\n",
       "    </tr>\n",
       "  </thead>\n",
       "  <tbody>\n",
       "    <tr>\n",
       "      <th>0</th>\n",
       "      <td>Jul</td>\n",
       "      <td>1</td>\n",
       "      <td>2004</td>\n",
       "    </tr>\n",
       "    <tr>\n",
       "      <th>1</th>\n",
       "      <td>Jul</td>\n",
       "      <td>10</td>\n",
       "      <td>2018</td>\n",
       "    </tr>\n",
       "    <tr>\n",
       "      <th>2</th>\n",
       "      <td>Jul</td>\n",
       "      <td>16</td>\n",
       "      <td>2014</td>\n",
       "    </tr>\n",
       "    <tr>\n",
       "      <th>3</th>\n",
       "      <td>Aug</td>\n",
       "      <td>30</td>\n",
       "      <td>2015</td>\n",
       "    </tr>\n",
       "    <tr>\n",
       "      <th>4</th>\n",
       "      <td>Aug</td>\n",
       "      <td>3</td>\n",
       "      <td>2017</td>\n",
       "    </tr>\n",
       "  </tbody>\n",
       "</table>\n",
       "</div>"
      ],
      "text/plain": [
       "  Month Day   Year\n",
       "0   Jul   1   2004\n",
       "1   Jul  10   2018\n",
       "2   Jul  16   2014\n",
       "3   Aug  30   2015\n",
       "4   Aug   3   2017"
      ]
     },
     "execution_count": 16,
     "metadata": {},
     "output_type": "execute_result"
    }
   ],
   "source": [
    "df[['Month', 'Day', 'Year']].head()"
   ]
  },
  {
   "cell_type": "markdown",
   "id": "6ff39a90",
   "metadata": {},
   "source": [
    "## Converting the Money to Floating data type by replacing M and K by its powers"
   ]
  },
  {
   "cell_type": "code",
   "execution_count": 17,
   "id": "c1b9578e",
   "metadata": {},
   "outputs": [
    {
     "data": {
      "text/html": [
       "<div>\n",
       "<style scoped>\n",
       "    .dataframe tbody tr th:only-of-type {\n",
       "        vertical-align: middle;\n",
       "    }\n",
       "\n",
       "    .dataframe tbody tr th {\n",
       "        vertical-align: top;\n",
       "    }\n",
       "\n",
       "    .dataframe thead th {\n",
       "        text-align: right;\n",
       "    }\n",
       "</style>\n",
       "<table border=\"1\" class=\"dataframe\">\n",
       "  <thead>\n",
       "    <tr style=\"text-align: right;\">\n",
       "      <th></th>\n",
       "      <th>Value</th>\n",
       "      <th>Wage</th>\n",
       "      <th>Release Clause</th>\n",
       "    </tr>\n",
       "  </thead>\n",
       "  <tbody>\n",
       "    <tr>\n",
       "      <th>0</th>\n",
       "      <td>€103.5M</td>\n",
       "      <td>€560K</td>\n",
       "      <td>€138.4M</td>\n",
       "    </tr>\n",
       "    <tr>\n",
       "      <th>1</th>\n",
       "      <td>€63M</td>\n",
       "      <td>€220K</td>\n",
       "      <td>€75.9M</td>\n",
       "    </tr>\n",
       "    <tr>\n",
       "      <th>2</th>\n",
       "      <td>€120M</td>\n",
       "      <td>€125K</td>\n",
       "      <td>€159.4M</td>\n",
       "    </tr>\n",
       "    <tr>\n",
       "      <th>3</th>\n",
       "      <td>€129M</td>\n",
       "      <td>€370K</td>\n",
       "      <td>€161M</td>\n",
       "    </tr>\n",
       "    <tr>\n",
       "      <th>4</th>\n",
       "      <td>€132M</td>\n",
       "      <td>€270K</td>\n",
       "      <td>€166.5M</td>\n",
       "    </tr>\n",
       "  </tbody>\n",
       "</table>\n",
       "</div>"
      ],
      "text/plain": [
       "     Value   Wage Release Clause\n",
       "0  €103.5M  €560K        €138.4M\n",
       "1     €63M  €220K         €75.9M\n",
       "2    €120M  €125K        €159.4M\n",
       "3    €129M  €370K          €161M\n",
       "4    €132M  €270K        €166.5M"
      ]
     },
     "execution_count": 17,
     "metadata": {},
     "output_type": "execute_result"
    }
   ],
   "source": [
    "df[['Value', 'Wage', 'Release Clause']].head()"
   ]
  },
  {
   "cell_type": "code",
   "execution_count": 18,
   "id": "22fa6d42",
   "metadata": {},
   "outputs": [
    {
     "data": {
      "text/plain": [
       "Value             0\n",
       "Wage              0\n",
       "Release Clause    0\n",
       "dtype: int64"
      ]
     },
     "execution_count": 18,
     "metadata": {},
     "output_type": "execute_result"
    }
   ],
   "source": [
    "df[['Value', 'Wage', 'Release Clause']].isna().sum()"
   ]
  },
  {
   "cell_type": "code",
   "execution_count": 19,
   "id": "db7fb696",
   "metadata": {},
   "outputs": [
    {
     "data": {
      "text/plain": [
       "Value             0\n",
       "Wage              0\n",
       "Release Clause    0\n",
       "dtype: int64"
      ]
     },
     "execution_count": 19,
     "metadata": {},
     "output_type": "execute_result"
    }
   ],
   "source": [
    "df[['Value', 'Wage', 'Release Clause']].isnull().sum()"
   ]
  },
  {
   "cell_type": "markdown",
   "id": "d13928c8",
   "metadata": {},
   "source": [
    "## Function to convert Money"
   ]
  },
  {
   "cell_type": "code",
   "execution_count": 20,
   "id": "1c0b2907",
   "metadata": {},
   "outputs": [],
   "source": [
    "def convert_money(money):\n",
    "    if 'M' in money:\n",
    "        return float(money.replace('€', '').replace('M', '')) * 1e6\n",
    "    elif 'K' in money:\n",
    "        return float(money.replace('€', '').replace('K', '')) * 1e3\n",
    "    else:\n",
    "        return float(money.replace('€', ''))"
   ]
  },
  {
   "cell_type": "code",
   "execution_count": 21,
   "id": "0014c94c",
   "metadata": {},
   "outputs": [],
   "source": [
    "df['Value'] = df['Value'].apply(convert_money)\n",
    "df['Wage'] = df['Wage'].apply(convert_money)\n",
    "df['Release Clause'] = df['Release Clause'].apply(convert_money)"
   ]
  },
  {
   "cell_type": "code",
   "execution_count": 22,
   "id": "4f720a09",
   "metadata": {},
   "outputs": [
    {
     "data": {
      "text/html": [
       "<div>\n",
       "<style scoped>\n",
       "    .dataframe tbody tr th:only-of-type {\n",
       "        vertical-align: middle;\n",
       "    }\n",
       "\n",
       "    .dataframe tbody tr th {\n",
       "        vertical-align: top;\n",
       "    }\n",
       "\n",
       "    .dataframe thead th {\n",
       "        text-align: right;\n",
       "    }\n",
       "</style>\n",
       "<table border=\"1\" class=\"dataframe\">\n",
       "  <thead>\n",
       "    <tr style=\"text-align: right;\">\n",
       "      <th></th>\n",
       "      <th>Value</th>\n",
       "      <th>Wage</th>\n",
       "      <th>Release Clause</th>\n",
       "    </tr>\n",
       "  </thead>\n",
       "  <tbody>\n",
       "    <tr>\n",
       "      <th>0</th>\n",
       "      <td>103500000.0</td>\n",
       "      <td>560000.0</td>\n",
       "      <td>138400000.0</td>\n",
       "    </tr>\n",
       "    <tr>\n",
       "      <th>1</th>\n",
       "      <td>63000000.0</td>\n",
       "      <td>220000.0</td>\n",
       "      <td>75900000.0</td>\n",
       "    </tr>\n",
       "    <tr>\n",
       "      <th>2</th>\n",
       "      <td>120000000.0</td>\n",
       "      <td>125000.0</td>\n",
       "      <td>159400000.0</td>\n",
       "    </tr>\n",
       "    <tr>\n",
       "      <th>3</th>\n",
       "      <td>129000000.0</td>\n",
       "      <td>370000.0</td>\n",
       "      <td>161000000.0</td>\n",
       "    </tr>\n",
       "    <tr>\n",
       "      <th>4</th>\n",
       "      <td>132000000.0</td>\n",
       "      <td>270000.0</td>\n",
       "      <td>166500000.0</td>\n",
       "    </tr>\n",
       "  </tbody>\n",
       "</table>\n",
       "</div>"
      ],
      "text/plain": [
       "         Value      Wage  Release Clause\n",
       "0  103500000.0  560000.0     138400000.0\n",
       "1   63000000.0  220000.0      75900000.0\n",
       "2  120000000.0  125000.0     159400000.0\n",
       "3  129000000.0  370000.0     161000000.0\n",
       "4  132000000.0  270000.0     166500000.0"
      ]
     },
     "execution_count": 22,
     "metadata": {},
     "output_type": "execute_result"
    }
   ],
   "source": [
    "df[['Value', 'Wage', 'Release Clause']].head()"
   ]
  },
  {
   "cell_type": "markdown",
   "id": "406b501d",
   "metadata": {},
   "source": [
    "## Highest number of Hits"
   ]
  },
  {
   "cell_type": "code",
   "execution_count": 23,
   "id": "79325cf7",
   "metadata": {
    "scrolled": true
   },
   "outputs": [
    {
     "data": {
      "text/plain": [
       "0        771\n",
       "1        562\n",
       "2        150\n",
       "3        207\n",
       "4        595\n",
       "        ... \n",
       "18974    NaN\n",
       "18975    NaN\n",
       "18976    NaN\n",
       "18977    NaN\n",
       "18978    NaN\n",
       "Name: Hits, Length: 18979, dtype: object"
      ]
     },
     "execution_count": 23,
     "metadata": {},
     "output_type": "execute_result"
    }
   ],
   "source": [
    "df['Hits']"
   ]
  },
  {
   "cell_type": "code",
   "execution_count": 24,
   "id": "c6807990",
   "metadata": {},
   "outputs": [
    {
     "data": {
      "text/plain": [
       "0        771\n",
       "1        562\n",
       "2        150\n",
       "3        207\n",
       "4        595\n",
       "        ... \n",
       "18974    NaN\n",
       "18975    NaN\n",
       "18976    NaN\n",
       "18977    NaN\n",
       "18978    NaN\n",
       "Name: Hits, Length: 18979, dtype: object"
      ]
     },
     "execution_count": 24,
     "metadata": {},
     "output_type": "execute_result"
    }
   ],
   "source": [
    "df['Hits'] = df['Hits'].str.replace('\\n', '')\n",
    "df['Hits']"
   ]
  },
  {
   "cell_type": "markdown",
   "id": "ab6c06c6",
   "metadata": {},
   "source": [
    "## Visualization of Number of players vs Their nationality"
   ]
  },
  {
   "cell_type": "code",
   "execution_count": 25,
   "id": "c1084860",
   "metadata": {},
   "outputs": [
    {
     "data": {
      "image/png": "[encoded data removed]",
      "text/plain": [
       "<Figure size 640x480 with 1 Axes>"
      ]
     },
     "metadata": {},
     "output_type": "display_data"
    }
   ],
   "source": [
    "No_of_players= df.groupby(['Nationality']).size().sort_values(axis = 0, ascending = False)\n",
    "No_of_players.head(10)\n",
    "\n",
    "No_of_players.head(10).plot(kind='bar',color='brown')\n",
    " \n",
    "plt.xlabel(\"Nationality\")\n",
    "plt.ylabel(\"Number of players\")\n",
    "plt.title(\"Nationality of Players\")\n",
    "plt.show()"
   ]
  },
  {
   "cell_type": "markdown",
   "id": "0e1f2f2c",
   "metadata": {},
   "source": [
    "## Visualzation of Age vs number of players"
   ]
  },
  {
   "cell_type": "code",
   "execution_count": 26,
   "id": "35eba83a",
   "metadata": {},
   "outputs": [
    {
     "data": {
      "image/png": "[encoded data removed]",
      "text/plain": [
       "<Figure size 640x480 with 1 Axes>"
      ]
     },
     "metadata": {},
     "output_type": "display_data"
    }
   ],
   "source": [
    "Age_of_players= df.groupby(['Age']).size().sort_values(axis = 0, ascending = False)\n",
    "\n",
    "Age_of_players.plot(kind='bar',color='orange')\n",
    "plt.xlabel(\"Age\")\n",
    "plt.ylabel(\"Number of players\")\n",
    "plt.title(\"Age of Players\")\n",
    "plt.show()"
   ]
  },
  {
   "cell_type": "markdown",
   "id": "f1b445af",
   "metadata": {},
   "source": [
    "## Visualization of Number of Hits vs Player name"
   ]
  },
  {
   "cell_type": "code",
   "execution_count": 27,
   "id": "9b302b77",
   "metadata": {
    "scrolled": false
   },
   "outputs": [
    {
     "data": {
      "image/png": "[encoded data removed]",
      "text/plain": [
       "<Figure size 640x480 with 1 Axes>"
      ]
     },
     "metadata": {},
     "output_type": "display_data"
    }
   ],
   "source": [
    "Number_of_hits = df.groupby(['Name']).size().sort_values(axis = 0,ascending = False)\n",
    "\n",
    "Number_of_hits.head(10).plot(kind='bar',color='green')\n",
    "plt.xlabel(\"Name\")\n",
    "plt.ylabel(\"Hits\")\n",
    "plt.title(\"Number of Hits\")\n",
    "plt.show()"
   ]
  },
  {
   "cell_type": "markdown",
   "id": "d5ac4dab",
   "metadata": {},
   "source": [
    "## List of Top Players"
   ]
  },
  {
   "cell_type": "code",
   "execution_count": 28,
   "id": "81ccb62a",
   "metadata": {},
   "outputs": [
    {
     "data": {
      "text/html": [
       "<div>\n",
       "<style scoped>\n",
       "    .dataframe tbody tr th:only-of-type {\n",
       "        vertical-align: middle;\n",
       "    }\n",
       "\n",
       "    .dataframe tbody tr th {\n",
       "        vertical-align: top;\n",
       "    }\n",
       "\n",
       "    .dataframe thead th {\n",
       "        text-align: right;\n",
       "    }\n",
       "</style>\n",
       "<table border=\"1\" class=\"dataframe\">\n",
       "  <thead>\n",
       "    <tr style=\"text-align: right;\">\n",
       "      <th></th>\n",
       "      <th>Name</th>\n",
       "      <th>↓OVA</th>\n",
       "      <th>Hits</th>\n",
       "    </tr>\n",
       "  </thead>\n",
       "  <tbody>\n",
       "    <tr>\n",
       "      <th>0</th>\n",
       "      <td>L. Messi</td>\n",
       "      <td>93</td>\n",
       "      <td>771</td>\n",
       "    </tr>\n",
       "    <tr>\n",
       "      <th>1</th>\n",
       "      <td>Cristiano Ronaldo</td>\n",
       "      <td>92</td>\n",
       "      <td>562</td>\n",
       "    </tr>\n",
       "    <tr>\n",
       "      <th>4</th>\n",
       "      <td>Neymar Jr</td>\n",
       "      <td>91</td>\n",
       "      <td>595</td>\n",
       "    </tr>\n",
       "    <tr>\n",
       "      <th>5</th>\n",
       "      <td>R. Lewandowski</td>\n",
       "      <td>91</td>\n",
       "      <td>248</td>\n",
       "    </tr>\n",
       "    <tr>\n",
       "      <th>3</th>\n",
       "      <td>K. De Bruyne</td>\n",
       "      <td>91</td>\n",
       "      <td>207</td>\n",
       "    </tr>\n",
       "    <tr>\n",
       "      <th>2</th>\n",
       "      <td>J. Oblak</td>\n",
       "      <td>91</td>\n",
       "      <td>150</td>\n",
       "    </tr>\n",
       "    <tr>\n",
       "      <th>10</th>\n",
       "      <td>V. van Dijk</td>\n",
       "      <td>90</td>\n",
       "      <td>321</td>\n",
       "    </tr>\n",
       "    <tr>\n",
       "      <th>6</th>\n",
       "      <td>M. Salah</td>\n",
       "      <td>90</td>\n",
       "      <td>246</td>\n",
       "    </tr>\n",
       "    <tr>\n",
       "      <th>11</th>\n",
       "      <td>S. Mané</td>\n",
       "      <td>90</td>\n",
       "      <td>189</td>\n",
       "    </tr>\n",
       "    <tr>\n",
       "      <th>9</th>\n",
       "      <td>M. ter Stegen</td>\n",
       "      <td>90</td>\n",
       "      <td>130</td>\n",
       "    </tr>\n",
       "  </tbody>\n",
       "</table>\n",
       "</div>"
      ],
      "text/plain": [
       "                 Name  ↓OVA Hits\n",
       "0            L. Messi    93  771\n",
       "1   Cristiano Ronaldo    92  562\n",
       "4           Neymar Jr    91  595\n",
       "5      R. Lewandowski    91  248\n",
       "3        K. De Bruyne    91  207\n",
       "2            J. Oblak    91  150\n",
       "10        V. van Dijk    90  321\n",
       "6            M. Salah    90  246\n",
       "11            S. Mané    90  189\n",
       "9       M. ter Stegen    90  130"
      ]
     },
     "execution_count": 28,
     "metadata": {},
     "output_type": "execute_result"
    }
   ],
   "source": [
    "Best_players = df.sort_values(['↓OVA', 'Hits'],ascending=[False, False]).head(10)\n",
    "\n",
    "Top= Best_players[['Name', '↓OVA', 'Hits']]\n",
    "Top_players=Top.head(10)\n",
    "Top_players"
   ]
  },
  {
   "cell_type": "markdown",
   "id": "832479f2",
   "metadata": {},
   "source": [
    "## Filtering the unwanted things from the Table"
   ]
  },
  {
   "cell_type": "code",
   "execution_count": 29,
   "id": "a76fc5c7",
   "metadata": {},
   "outputs": [],
   "source": [
    "def remove_n(team):\n",
    "    if '\\n' in team:\n",
    "        return team.replace('\\n', '')"
   ]
  },
  {
   "cell_type": "code",
   "execution_count": 30,
   "id": "c0202712",
   "metadata": {},
   "outputs": [],
   "source": [
    "df['Club'] = df['Club'].apply(remove_n)"
   ]
  },
  {
   "cell_type": "markdown",
   "id": "9234922c",
   "metadata": {},
   "source": [
    "## Number of Clubs participating in FIFA 21"
   ]
  },
  {
   "cell_type": "code",
   "execution_count": 31,
   "id": "6b479cbc",
   "metadata": {},
   "outputs": [
    {
     "data": {
      "text/plain": [
       "681"
      ]
     },
     "execution_count": 31,
     "metadata": {},
     "output_type": "execute_result"
    }
   ],
   "source": [
    "Teams = df['Club'].value_counts() \n",
    "Teams.count()"
   ]
  },
  {
   "cell_type": "markdown",
   "id": "e5d38518",
   "metadata": {},
   "source": [
    "## Top 100 players"
   ]
  },
  {
   "cell_type": "code",
   "execution_count": 32,
   "id": "428ec55b",
   "metadata": {},
   "outputs": [
    {
     "data": {
      "text/html": [
       "<div>\n",
       "<style scoped>\n",
       "    .dataframe tbody tr th:only-of-type {\n",
       "        vertical-align: middle;\n",
       "    }\n",
       "\n",
       "    .dataframe tbody tr th {\n",
       "        vertical-align: top;\n",
       "    }\n",
       "\n",
       "    .dataframe thead th {\n",
       "        text-align: right;\n",
       "    }\n",
       "</style>\n",
       "<table border=\"1\" class=\"dataframe\">\n",
       "  <thead>\n",
       "    <tr style=\"text-align: right;\">\n",
       "      <th></th>\n",
       "      <th>ID</th>\n",
       "      <th>Name</th>\n",
       "      <th>LongName</th>\n",
       "      <th>photoUrl</th>\n",
       "      <th>playerUrl</th>\n",
       "      <th>Nationality</th>\n",
       "      <th>Age</th>\n",
       "      <th>↓OVA</th>\n",
       "      <th>POT</th>\n",
       "      <th>Club</th>\n",
       "      <th>...</th>\n",
       "      <th>SHO</th>\n",
       "      <th>PAS</th>\n",
       "      <th>DRI</th>\n",
       "      <th>DEF</th>\n",
       "      <th>PHY</th>\n",
       "      <th>Hits</th>\n",
       "      <th>Month</th>\n",
       "      <th>Day-Year</th>\n",
       "      <th>Day</th>\n",
       "      <th>Year</th>\n",
       "    </tr>\n",
       "  </thead>\n",
       "  <tbody>\n",
       "    <tr>\n",
       "      <th>0</th>\n",
       "      <td>158023</td>\n",
       "      <td>L. Messi</td>\n",
       "      <td>Lionel Messi</td>\n",
       "      <td>https://cdn.sofifa.com/players/158/023/21_60.png</td>\n",
       "      <td>http://sofifa.com/player/158023/lionel-messi/2...</td>\n",
       "      <td>Argentina</td>\n",
       "      <td>33</td>\n",
       "      <td>93</td>\n",
       "      <td>93</td>\n",
       "      <td>FC Barcelona</td>\n",
       "      <td>...</td>\n",
       "      <td>92</td>\n",
       "      <td>91</td>\n",
       "      <td>95</td>\n",
       "      <td>38</td>\n",
       "      <td>65</td>\n",
       "      <td>771</td>\n",
       "      <td>Jul</td>\n",
       "      <td>1, 2004</td>\n",
       "      <td>1</td>\n",
       "      <td>2004</td>\n",
       "    </tr>\n",
       "    <tr>\n",
       "      <th>1</th>\n",
       "      <td>20801</td>\n",
       "      <td>Cristiano Ronaldo</td>\n",
       "      <td>C. Ronaldo dos Santos Aveiro</td>\n",
       "      <td>https://cdn.sofifa.com/players/020/801/21_60.png</td>\n",
       "      <td>http://sofifa.com/player/20801/c-ronaldo-dos-s...</td>\n",
       "      <td>Portugal</td>\n",
       "      <td>35</td>\n",
       "      <td>92</td>\n",
       "      <td>92</td>\n",
       "      <td>Juventus</td>\n",
       "      <td>...</td>\n",
       "      <td>93</td>\n",
       "      <td>81</td>\n",
       "      <td>89</td>\n",
       "      <td>35</td>\n",
       "      <td>77</td>\n",
       "      <td>562</td>\n",
       "      <td>Jul</td>\n",
       "      <td>10, 2018</td>\n",
       "      <td>10</td>\n",
       "      <td>2018</td>\n",
       "    </tr>\n",
       "    <tr>\n",
       "      <th>2</th>\n",
       "      <td>200389</td>\n",
       "      <td>J. Oblak</td>\n",
       "      <td>Jan Oblak</td>\n",
       "      <td>https://cdn.sofifa.com/players/200/389/21_60.png</td>\n",
       "      <td>http://sofifa.com/player/200389/jan-oblak/210006/</td>\n",
       "      <td>Slovenia</td>\n",
       "      <td>27</td>\n",
       "      <td>91</td>\n",
       "      <td>93</td>\n",
       "      <td>Atlético Madrid</td>\n",
       "      <td>...</td>\n",
       "      <td>92</td>\n",
       "      <td>78</td>\n",
       "      <td>90</td>\n",
       "      <td>52</td>\n",
       "      <td>90</td>\n",
       "      <td>150</td>\n",
       "      <td>Jul</td>\n",
       "      <td>16, 2014</td>\n",
       "      <td>16</td>\n",
       "      <td>2014</td>\n",
       "    </tr>\n",
       "    <tr>\n",
       "      <th>3</th>\n",
       "      <td>192985</td>\n",
       "      <td>K. De Bruyne</td>\n",
       "      <td>Kevin De Bruyne</td>\n",
       "      <td>https://cdn.sofifa.com/players/192/985/21_60.png</td>\n",
       "      <td>http://sofifa.com/player/192985/kevin-de-bruyn...</td>\n",
       "      <td>Belgium</td>\n",
       "      <td>29</td>\n",
       "      <td>91</td>\n",
       "      <td>91</td>\n",
       "      <td>Manchester City</td>\n",
       "      <td>...</td>\n",
       "      <td>86</td>\n",
       "      <td>93</td>\n",
       "      <td>88</td>\n",
       "      <td>64</td>\n",
       "      <td>78</td>\n",
       "      <td>207</td>\n",
       "      <td>Aug</td>\n",
       "      <td>30, 2015</td>\n",
       "      <td>30</td>\n",
       "      <td>2015</td>\n",
       "    </tr>\n",
       "    <tr>\n",
       "      <th>4</th>\n",
       "      <td>190871</td>\n",
       "      <td>Neymar Jr</td>\n",
       "      <td>Neymar da Silva Santos Jr.</td>\n",
       "      <td>https://cdn.sofifa.com/players/190/871/21_60.png</td>\n",
       "      <td>http://sofifa.com/player/190871/neymar-da-silv...</td>\n",
       "      <td>Brazil</td>\n",
       "      <td>28</td>\n",
       "      <td>91</td>\n",
       "      <td>91</td>\n",
       "      <td>Paris Saint-Germain</td>\n",
       "      <td>...</td>\n",
       "      <td>85</td>\n",
       "      <td>86</td>\n",
       "      <td>94</td>\n",
       "      <td>36</td>\n",
       "      <td>59</td>\n",
       "      <td>595</td>\n",
       "      <td>Aug</td>\n",
       "      <td>3, 2017</td>\n",
       "      <td>3</td>\n",
       "      <td>2017</td>\n",
       "    </tr>\n",
       "  </tbody>\n",
       "</table>\n",
       "<p>5 rows × 81 columns</p>\n",
       "</div>"
      ],
      "text/plain": [
       "       ID               Name                      LongName  \\\n",
       "0  158023           L. Messi                  Lionel Messi   \n",
       "1   20801  Cristiano Ronaldo  C. Ronaldo dos Santos Aveiro   \n",
       "2  200389           J. Oblak                     Jan Oblak   \n",
       "3  192985       K. De Bruyne               Kevin De Bruyne   \n",
       "4  190871          Neymar Jr    Neymar da Silva Santos Jr.   \n",
       "\n",
       "                                           photoUrl  \\\n",
       "0  https://cdn.sofifa.com/players/158/023/21_60.png   \n",
       "1  https://cdn.sofifa.com/players/020/801/21_60.png   \n",
       "2  https://cdn.sofifa.com/players/200/389/21_60.png   \n",
       "3  https://cdn.sofifa.com/players/192/985/21_60.png   \n",
       "4  https://cdn.sofifa.com/players/190/871/21_60.png   \n",
       "\n",
       "                                           playerUrl Nationality  Age  ↓OVA  \\\n",
       "0  http://sofifa.com/player/158023/lionel-messi/2...   Argentina   33    93   \n",
       "1  http://sofifa.com/player/20801/c-ronaldo-dos-s...    Portugal   35    92   \n",
       "2  http://sofifa.com/player/200389/jan-oblak/210006/    Slovenia   27    91   \n",
       "3  http://sofifa.com/player/192985/kevin-de-bruyn...     Belgium   29    91   \n",
       "4  http://sofifa.com/player/190871/neymar-da-silv...      Brazil   28    91   \n",
       "\n",
       "   POT                 Club  ... SHO PAS  DRI  DEF PHY  Hits Month  Day-Year  \\\n",
       "0   93         FC Barcelona  ...  92  91   95   38  65   771   Jul   1, 2004   \n",
       "1   92             Juventus  ...  93  81   89   35  77   562   Jul  10, 2018   \n",
       "2   93      Atlético Madrid  ...  92  78   90   52  90   150   Jul  16, 2014   \n",
       "3   91      Manchester City  ...  86  93   88   64  78   207   Aug  30, 2015   \n",
       "4   91  Paris Saint-Germain  ...  85  86   94   36  59   595   Aug   3, 2017   \n",
       "\n",
       "  Day   Year  \n",
       "0   1   2004  \n",
       "1  10   2018  \n",
       "2  16   2014  \n",
       "3  30   2015  \n",
       "4   3   2017  \n",
       "\n",
       "[5 rows x 81 columns]"
      ]
     },
     "execution_count": 32,
     "metadata": {},
     "output_type": "execute_result"
    }
   ],
   "source": [
    "best_players = df.sort_values('↓OVA',ascending = False).head(100)\n",
    "best_players.head()"
   ]
  },
  {
   "cell_type": "markdown",
   "id": "cf567e0d",
   "metadata": {},
   "source": [
    "## Number of clubs to whom these top 100 players belong to"
   ]
  },
  {
   "cell_type": "code",
   "execution_count": 33,
   "id": "09c6ab7a",
   "metadata": {},
   "outputs": [
    {
     "data": {
      "text/plain": [
       "25"
      ]
     },
     "execution_count": 33,
     "metadata": {},
     "output_type": "execute_result"
    }
   ],
   "source": [
    "Team_vals = best_players['Club'].value_counts()\n",
    "Team_vals.count()"
   ]
  },
  {
   "cell_type": "markdown",
   "id": "038e0928",
   "metadata": {},
   "source": [
    "## Visualization of Number of best players vs Club names"
   ]
  },
  {
   "cell_type": "code",
   "execution_count": 34,
   "id": "0c7b7989",
   "metadata": {},
   "outputs": [
    {
     "data": {
      "image/png": "[encoded data removed]",
      "text/plain": [
       "<Figure size 640x480 with 1 Axes>"
      ]
     },
     "metadata": {},
     "output_type": "display_data"
    }
   ],
   "source": [
    "Team_vals.plot(kind=\"bar\",color='purple');\n",
    "plt.title(\"Club with Best Players\");\n",
    "plt.xlabel(\" Club Names\")\n",
    "plt.ylabel(\"Number of Best Players\")\n",
    "plt.show()"
   ]
  },
  {
   "cell_type": "markdown",
   "id": "600e0134",
   "metadata": {},
   "source": [
    "## Conclusion\n",
    "-We got to know that most of the players are from 'England', 'Germany', 'Spain', 'France' and 'Argentina'.\n",
    "\n",
    "-Players Age range is from 53-23 most of the players age is 23.\n",
    "\n",
    "-Highest number of Hits is 13 by J. Rodríguez.\n",
    "\n",
    "-Best player based on OVA and Hits is L. Messi with 93 OVA and 372 Hits\n",
    "\n",
    "-There are 681 different Teams participated in FIFA 2021\n",
    "\n",
    "-There are 25 Teams in FIFA 2021 with best 100 FIFA Players\n",
    "\n",
    "-Liverpool Team has 11 players which are among best 100 FIFA players, Liverpool team has highest best player count as compared to other countries."
   ]
  }
 ],
 "metadata": {
  "kernelspec": {
   "display_name": "Python 3 (ipykernel)",
   "language": "python",
   "name": "python3"
  },
  "language_info": {
   "codemirror_mode": {
    "name": "ipython",
    "version": 3
   },
   "file_extension": ".py",
   "mimetype": "text/x-python",
   "name": "python",
   "nbconvert_exporter": "python",
   "pygments_lexer": "ipython3",
   "version": "3.10.9"
  }
 },
 "nbformat": 4,
 "nbformat_minor": 5
}
